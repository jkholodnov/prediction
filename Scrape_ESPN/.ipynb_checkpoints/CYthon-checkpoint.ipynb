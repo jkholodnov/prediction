{
 "metadata": {
  "name": "",
  "signature": "sha256:3c00ab9a24953ecd89cb167d2a9f1a2e5dab21a9b470e0129a6da0fee49f3dc6"
 },
 "nbformat": 3,
 "nbformat_minor": 0,
 "worksheets": [
  {
   "cells": [
    {
     "cell_type": "code",
     "collapsed": false,
     "input": [],
     "language": "python",
     "metadata": {},
     "outputs": []
    }
   ],
   "metadata": {}
  }
 ]
}